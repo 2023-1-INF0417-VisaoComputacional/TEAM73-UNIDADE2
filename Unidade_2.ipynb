{
 "cells": [
  {
   "cell_type": "markdown",
   "id": "c18fa284",
   "metadata": {},
   "source": [
    "# TEAM 73 (Pega a Visão)\n",
    "\n",
    "INF0417 – 202108075 – ANDRÉ LUIS ARAÚJO DE SOUZA<br>\n",
    "INF0417 – 202105848 – HUGO FERNANDES SILVA<br>\n",
    "INF0417 – 202105865 – RAFAEL ALVES GOIAS<br>\n",
    "INF0417 – 202105201 – VICTOR MATTEUS SILVA SOUZA<br>"
   ]
  },
  {
   "cell_type": "markdown",
   "id": "775df9bf",
   "metadata": {},
   "source": [
    "## 1.\n",
    "#### Formular 3 perguntas sobre o conteúdo da vídeo aula sobre extratores de características robustos com suas respectivas respostas. Deverá ter uma pergunta para cada um dos 3 níveis de aprendizado, sendo eles correspondentes aos tamanhos P (pequeno), M (médio) e G (grande). As perguntas e respostas serão avaliadas em função da clareza e coerência acorde com o nível requisitado para cada uma delas."
   ]
  },
  {
   "cell_type": "markdown",
   "id": "e50d0ea9",
   "metadata": {},
   "source": [
    "---\n",
    "### **Pergunta de nível baixo**\n",
    "#### Quais são os 3 passos que representam uma descrição do conceito de \"local invariant feature\"?"
   ]
  },
  {
   "cell_type": "markdown",
   "id": "7ee149e7",
   "metadata": {},
   "source": [
    "1º - Detecção: use um detector para achar um local (frame canônico)\n",
    "\n",
    "2º - Description: Computa um descriptor pela amostragem da imagem no frame canônico.\n",
    "\n",
    "3º - Matching: Acha correspondências, comparando descriptors (patches) entre duas imagens."
   ]
  },
  {
   "cell_type": "markdown",
   "id": "404d6123",
   "metadata": {},
   "source": [
    "---\n",
    "### **Pergunta de nível médio**\n",
    "#### Qual é a limitação de busca força bruta pelo frame canônico numa imagem?"
   ]
  },
  {
   "cell_type": "markdown",
   "id": "6ce711f0",
   "metadata": {},
   "source": [
    "Complexidade combinatória pode gerar alto custo computacional principalmente quando se tem muitos pontos detectados em uma imagem e um número relativamente alto de pontos que satisfazem um frame, já que, por exemplo, se a homografia é 6DOF, é necessário detectar um frame canônico composto por N=3 pontos detectados os quais seus patches são correspondentes entre duas imagens, porém para encontrar esse frame canônico, considerando que foram detectados K pontos na imagem, o frame canônico de 3 pontos está em meio a análise combinatória de N em K."
   ]
  },
  {
   "cell_type": "markdown",
   "id": "5521f83a",
   "metadata": {},
   "source": [
    "---\n",
    "### **Pergunta de alto nível**\n",
    "#### Quais são os requisitos (em prol da invariância geométrica) que satisfazem a identificação de uma homografia 3DOF, 4DOF, 6DOF e 8DOF? I.e., o que compõe o frame canônico de cada um desses casos?"
   ]
  },
  {
   "cell_type": "markdown",
   "id": "fc901783",
   "metadata": {},
   "source": [
    "---\n",
    "Mudança de escala + translação (3DOF)<br>\n",
    "Em uma imagem, é necessária a identificação de 1 patch de pixels compostos pelos pixels da circunferência em que o diâmetro equivale a distância entre 2 pontos detectados numa imagem.<br>\n",
    "É encontrada a homografia ocorrida de uma imagem para outra observando a transformação sofrida por esse patch que foi identificado como correspondente entre as duas imagens.<br>"
   ]
  },
  {
   "cell_type": "markdown",
   "id": "bcf2694c",
   "metadata": {},
   "source": [
    "---\n",
    "Similaridade (mudança de escala + translação + rotação) (4DOF)<br>\n",
    "É necessária a identificação de 2 patches de dois pontos detectados numa imagem.<br>\n",
    "É encontrada a homografia de uma imagem para outra observando a transformação sofrida pelo triângulo retângulo em que as extremidades da hipotenusa são os 2 patches identificados<br>\n",
    "Se só conseguir detectar 1 ponto, não conseguirá obter a homografia 4DOF.\n"
   ]
  },
  {
   "cell_type": "markdown",
   "id": "503c8ff0",
   "metadata": {},
   "source": [
    "---\n",
    "Afim (mudança de escala + translação + rotação + torção/skew) (6DOF)<br>\n",
    "É necessária a identificação de 3 patches de 3 pontos detectados numa imagem.<br>\n",
    "É encontrada a homografia de uma imagem para outra observando a transformação sofrida pelo triângulo escaleno em que suas extremidades são os 3 patches identificados.<br>\n",
    "Se só conseguir detectar 2 pontos, não conseguirá obter a homografia 6DOF."
   ]
  },
  {
   "cell_type": "markdown",
   "id": "2bef8d27",
   "metadata": {},
   "source": [
    "---\n",
    "Projetiva (mudança de escala + translação + rotação + torção + mudança de perspectiva/foreshortening) (8DOF)<br>\n",
    "É necessária a identificação de 4 patches de 4 pontos detectados numa imagem.<br>\n",
    "É encontrada a homografia de uma imagem para outra observando a transformação sofrida pelo plano em disposto em 3 dimensões em que os vértices são os 4 patches identificados.<br>\n",
    "Se só conseguir detectar 3 pontos, não conseguirá obter a homografia 8DOF."
   ]
  },
  {
   "cell_type": "markdown",
   "id": "6f9695f0",
   "metadata": {},
   "source": [
    "## 2.\n",
    "#### Formular 1 exercício prático de programação de livre escolha sobre o tema de \"rastreamento de objetos\", ou sobre o tema de \"feature extraction\", junto com sua correspondente solução."
   ]
  },
  {
   "cell_type": "markdown",
   "id": "9f4b504f",
   "metadata": {},
   "source": [
    "No contexto de rastreamento de objetos, o algoritmo MOG2 modela cada pixel na sequência de vídeo de entrada como uma mistura de distribuições gaussianas, onde o plano de fundo é representado por um conjunto de distribuições gaussianas. O algoritmo se adapta e atualiza esses modelos gaussianos ao longo do tempo para levar em conta as mudanças no plano de fundo devido a variações de iluminação, planos de fundo dinâmicos e outros fatores. Os objetos em primeiro plano são então detectados comparando a intensidade do pixel com os modelos gaussianos."
   ]
  },
  {
   "cell_type": "markdown",
   "id": "1a7a7734",
   "metadata": {},
   "source": [
    "#### Implemente uma solução utilizando o algorítmo citado para detecção de objetos. (Utilize o arquivo 'video3.mp4' para testar a execução do código)"
   ]
  },
  {
   "cell_type": "code",
   "execution_count": 59,
   "id": "0bfdaf10",
   "metadata": {},
   "outputs": [],
   "source": [
    "import cv2\n",
    "import numpy as np\n",
    "\n",
    "video_path = \"video3.mp4\"\n",
    "cap = cv2.VideoCapture(video_path)\n",
    "\n",
    "background_subtractor = cv2.createBackgroundSubtractorMOG2(history=15, detectShadows=False)\n",
    "\n",
    "while True:\n",
    "    ret, frame = cap.read()\n",
    "    if not ret:\n",
    "        break\n",
    "\n",
    "    gray = cv2.cvtColor(frame, cv2.COLOR_BGR2GRAY)\n",
    "    \n",
    "    mask = background_subtractor.apply(gray)\n",
    "    \n",
    "    _, thresh = cv2.threshold(mask, 128, 255, cv2.THRESH_TOZERO)\n",
    "\n",
    "    kernel = np.ones((5, 5), np.uint8)\n",
    "    dilated = cv2.dilate(thresh, kernel, iterations=3)\n",
    "\n",
    "    contours, _ = cv2.findContours(dilated, cv2.RETR_EXTERNAL, cv2.CHAIN_APPROX_SIMPLE)\n",
    "\n",
    "    for contour in contours:\n",
    "        if cv2.contourArea(contour) > 4000 and cv2.contourArea(contour) < 150000:  # Define uma área mínima para filtrar pequenos contornos\n",
    "            x, y, w, h = cv2.boundingRect(contour)\n",
    "            cv2.rectangle(frame, (x, y), (x + w, y + h), (0, 255, 0), 2)\n",
    "\n",
    "    cv2.imshow(\"Moving Object Detection\", frame)\n",
    "\n",
    "    if cv2.waitKey(1) & 0xFF == ord('q'):\n",
    "        break\n",
    "\n",
    "cap.release()\n",
    "cv2.destroyAllWindows()\n"
   ]
  },
  {
   "cell_type": "code",
   "execution_count": null,
   "id": "a55fd622",
   "metadata": {},
   "outputs": [],
   "source": []
  },
  {
   "cell_type": "code",
   "execution_count": null,
   "id": "399a1fb2",
   "metadata": {},
   "outputs": [],
   "source": []
  },
  {
   "cell_type": "code",
   "execution_count": null,
   "id": "42fa3a2e",
   "metadata": {},
   "outputs": [],
   "source": []
  }
 ],
 "metadata": {
  "kernelspec": {
   "display_name": "Python 3 (ipykernel)",
   "language": "python",
   "name": "python3"
  },
  "language_info": {
   "codemirror_mode": {
    "name": "ipython",
    "version": 3
   },
   "file_extension": ".py",
   "mimetype": "text/x-python",
   "name": "python",
   "nbconvert_exporter": "python",
   "pygments_lexer": "ipython3",
   "version": "3.10.8"
  }
 },
 "nbformat": 4,
 "nbformat_minor": 5
}
